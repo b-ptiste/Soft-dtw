{
 "cells": [
  {
   "cell_type": "markdown",
   "metadata": {},
   "source": [
    "- soft dtw divergence : https://rtavenar.github.io/ml4ts_ensai/contents/align/softdtw.html\n",
    "- contraindre sur la digonale\n",
    "- comaparer L2 et DTW\n",
    "- Autoencoder\n",
    "- VAE\n",
    "- Detection d'anomalies"
   ]
  },
  {
   "cell_type": "code",
   "execution_count": null,
   "metadata": {},
   "outputs": [],
   "source": [
    "import torch"
   ]
  },
  {
   "cell_type": "code",
   "execution_count": null,
   "metadata": {},
   "outputs": [],
   "source": [
    "def soft_min(list_a, gamma):\n",
    "    \"\"\"Softmin function.\n",
    "\n",
    "    Args:\n",
    "        list_a (list): list of values\n",
    "        gamma (float): gamma parameter\n",
    "\n",
    "    Returns:\n",
    "        float: softmin value\n",
    "    \"\"\"\n",
    "    assert gamma >= 0, \"gamma must be greater than or equal to 0\"\n",
    "    \n",
    "    # transform list_a to numpy array\n",
    "    list_a = torch.Tensor(list_a)\n",
    "    \n",
    "    if gamma == 0:\n",
    "        _min = torch.min(list_a)\n",
    "    else:\n",
    "        z = -list_a / gamma\n",
    "        log_sum = torch.max(z) + torch.log(torch.sum(torch.exp(z - max(z))))\n",
    "        _min = -gamma * log_sum\n",
    "    return _min\n"
   ]
  },
  {
   "cell_type": "code",
   "execution_count": null,
   "metadata": {},
   "outputs": [],
   "source": [
    "# create list of values\n",
    "list_a = [9, 10, 0.5, 1, 2, 3, 4, 100, -1]\n",
    "gamma = 1\n",
    "\n",
    "# calculate softmin\n",
    "_min = soft_min(list_a, gamma)\n",
    "print(_min)\n",
    "\n",
    "# calculate softmin with gamma = 0\n",
    "_min = soft_min(list_a, 0)\n",
    "print(_min)"
   ]
  },
  {
   "cell_type": "code",
   "execution_count": null,
   "metadata": {},
   "outputs": [],
   "source": [
    "n = 10\n",
    "m = 10\n",
    "R = torch.zeros((n, m))\n",
    "R.shape"
   ]
  },
  {
   "cell_type": "code",
   "execution_count": null,
   "metadata": {},
   "outputs": [],
   "source": [
    "def soft_dtw(x, y, gamma=1.0):\n",
    "    \"\"\"Soft Dynamic Time Warping.\n",
    "\n",
    "    Args:\n",
    "        x (list): time series 1\n",
    "        y (list): time series 2\n",
    "        gamma (float, optional): gamma parameter. Defaults to 1.0.\n",
    "\n",
    "    Returns:\n",
    "        float: soft-DTW distance\n",
    "    \"\"\"\n",
    "    # initialize DP matrix\n",
    "    n = len(x)\n",
    "    m = len(y)\n",
    "    R = torch.zeros((n + 1, m + 1))\n",
    "    R[0, 1:] = float('inf')\n",
    "    R[1:, 0] = float('inf')\n",
    "    R[0, 0] = 0.0\n",
    "    \n",
    "    for j in range(1, m + 1):\n",
    "        for i in range(1, n + 1):\n",
    "            # calculate distance\n",
    "            cost = (x[i - 1] - y[j - 1])**2\n",
    "            \n",
    "            # calculate minimum\n",
    "            _min = soft_min([R[i - 1, j], R[i, j - 1], R[i - 1, j - 1]], gamma)\n",
    "            \n",
    "            # update cell\n",
    "            R[i, j] = cost + _min\n",
    "            \n",
    "    return R[-1, -1], R\n",
    "    \n",
    "    "
   ]
  },
  {
   "cell_type": "code",
   "execution_count": null,
   "metadata": {},
   "outputs": [],
   "source": [
    "# create two time series\n",
    "x = torch.Tensor([-2, 1, 1])\n",
    "y = torch.Tensor([1, 3, 1, 9, 1])\n",
    "\n",
    "# calculate soft-DTW distance\n",
    "gamma = 0.5\n",
    "dist, R = soft_dtw(x, y, gamma=gamma)\n",
    "print(dist)"
   ]
  },
  {
   "cell_type": "code",
   "execution_count": null,
   "metadata": {},
   "outputs": [],
   "source": [
    "from tslearn import metrics\n",
    "metrics.soft_dtw(x, y, gamma=gamma)"
   ]
  }
 ],
 "metadata": {
  "kernelspec": {
   "display_name": "base",
   "language": "python",
   "name": "python3"
  },
  "language_info": {
   "codemirror_mode": {
    "name": "ipython",
    "version": 3
   },
   "file_extension": ".py",
   "mimetype": "text/x-python",
   "name": "python",
   "nbconvert_exporter": "python",
   "pygments_lexer": "ipython3",
   "version": "3.10.13"
  }
 },
 "nbformat": 4,
 "nbformat_minor": 2
}
