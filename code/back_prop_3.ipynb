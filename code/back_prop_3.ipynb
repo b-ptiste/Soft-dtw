{
 "cells": [
  {
   "cell_type": "code",
   "execution_count": 1,
   "metadata": {},
   "outputs": [],
   "source": [
    "from DTWLoss import DTWLoss\n",
    "from dtw_soft import soft_dtw_batch_same_size\n",
    "import torch"
   ]
  },
  {
   "cell_type": "markdown",
   "metadata": {},
   "source": [
    "## Loss Pytorch"
   ]
  },
  {
   "cell_type": "markdown",
   "metadata": {},
   "source": [
    "## Custom backward"
   ]
  },
  {
   "cell_type": "code",
   "execution_count": 2,
   "metadata": {},
   "outputs": [
    {
     "name": "stdout",
     "output_type": "stream",
     "text": [
      "x1 : torch.Size([2, 3, 2]) y1 : torch.Size([2, 5, 2])\n"
     ]
    }
   ],
   "source": [
    "xs1_1 = torch.tensor(\n",
    "    [[1, 1, 56], [2, 8, 0]], dtype=torch.float32, requires_grad=True\n",
    ").T  # .repeat(1,1,1)\n",
    "ys1_1 = torch.tensor(\n",
    "    [[1, 8, 1, 9, 1], [5, 9, 14, 7, -1]], dtype=torch.float32, requires_grad=True\n",
    ").T  # .repeat(1,1,1)\n",
    "\n",
    "xs1_2 = torch.tensor(\n",
    "    [[1, 0, 56], [2, 0, 0]], dtype=torch.float32, requires_grad=True\n",
    ").T  # .repeat(1,1,1)\n",
    "ys1_2 = torch.tensor(\n",
    "    [[1, 0, 1, 9, 1], [5, 0, 14, 7, -1]], dtype=torch.float32, requires_grad=True\n",
    ").T  # .repeat(1,1,1)\n",
    "\n",
    "xs1 = torch.stack([xs1_1, xs1_2])\n",
    "ys1 = torch.stack([ys1_1, ys1_2])\n",
    "\n",
    "xs1.retain_grad()\n",
    "ys1.retain_grad()\n",
    "print(\"x1 :\", xs1.shape, \"y1 :\", ys1.shape)"
   ]
  },
  {
   "cell_type": "code",
   "execution_count": 3,
   "metadata": {},
   "outputs": [],
   "source": [
    "criterion = DTWLoss()"
   ]
  },
  {
   "cell_type": "code",
   "execution_count": 4,
   "metadata": {},
   "outputs": [
    {
     "data": {
      "text/plain": [
       "tensor(3230.5000, grad_fn=<MeanBackward0>)"
      ]
     },
     "execution_count": 4,
     "metadata": {},
     "output_type": "execute_result"
    }
   ],
   "source": [
    "loss_custom = criterion(xs1, ys1)\n",
    "loss_custom"
   ]
  },
  {
   "cell_type": "code",
   "execution_count": 5,
   "metadata": {},
   "outputs": [
    {
     "name": "stdout",
     "output_type": "stream",
     "text": [
      "x torch.Size([2, 3, 2])\n",
      "tensor([[[-9.9749e-21, -3.0000e+00],\n",
      "         [-1.5000e+01, -5.9996e+00],\n",
      "         [ 5.5000e+01,  1.0000e+00]],\n",
      "\n",
      "        [[-7.0000e+00, -1.8000e+01],\n",
      "         [-1.0000e+00,  1.0000e+00],\n",
      "         [ 5.5000e+01,  1.0000e+00]]])\n"
     ]
    }
   ],
   "source": [
    "loss_custom.backward()\n",
    "print(\"x\", xs1.shape)\n",
    "print(xs1.grad)"
   ]
  },
  {
   "cell_type": "markdown",
   "metadata": {},
   "source": [
    "# Auto Backward"
   ]
  },
  {
   "cell_type": "code",
   "execution_count": 6,
   "metadata": {},
   "outputs": [
    {
     "name": "stdout",
     "output_type": "stream",
     "text": [
      "x1 : torch.Size([2, 3, 2]) y1 : torch.Size([2, 5, 2])\n"
     ]
    }
   ],
   "source": [
    "xs2_1 = torch.tensor(\n",
    "    [[1, 1, 56], [2, 8, 0]], dtype=torch.float32, requires_grad=True\n",
    ").T  # .repeat(1,1,1)\n",
    "ys2_1 = torch.tensor(\n",
    "    [[1, 8, 1, 9, 1], [5, 9, 14, 7, -1]], dtype=torch.float32, requires_grad=True\n",
    ").T  # .repeat(1,1,1)\n",
    "\n",
    "xs2_2 = torch.tensor(\n",
    "    [[1, 0, 56], [2, 0, 0]], dtype=torch.float32, requires_grad=True\n",
    ").T  # .repeat(1,1,1)\n",
    "ys2_2 = torch.tensor(\n",
    "    [[1, 0, 1, 9, 1], [5, 0, 14, 7, -1]], dtype=torch.float32, requires_grad=True\n",
    ").T  # .repeat(1,1,1)\n",
    "\n",
    "xs2 = torch.stack([xs1_1, xs1_2])\n",
    "ys2 = torch.stack([ys1_1, ys1_2])\n",
    "\n",
    "xs2.retain_grad()\n",
    "ys2.retain_grad()\n",
    "print(\"x1 :\", xs2.shape, \"y1 :\", ys2.shape)\n",
    "\n",
    "loss = torch.mean(soft_dtw_batch_same_size(xs2, ys2)[0])"
   ]
  },
  {
   "cell_type": "code",
   "execution_count": 7,
   "metadata": {},
   "outputs": [
    {
     "name": "stdout",
     "output_type": "stream",
     "text": [
      "x torch.Size([2, 3, 2])\n",
      "tensor([[[-9.9749e-21, -3.0000e+00],\n",
      "         [-1.5000e+01, -5.9996e+00],\n",
      "         [ 5.5000e+01,  1.0000e+00]],\n",
      "\n",
      "        [[-7.0000e+00, -1.8000e+01],\n",
      "         [-1.0000e+00,  1.0000e+00],\n",
      "         [ 5.5000e+01,  1.0000e+00]]])\n"
     ]
    }
   ],
   "source": [
    "loss.backward()\n",
    "print(\"x\", xs2.shape)\n",
    "print(xs2.grad)"
   ]
  }
 ],
 "metadata": {
  "kernelspec": {
   "display_name": "MVA",
   "language": "python",
   "name": "python3"
  },
  "language_info": {
   "codemirror_mode": {
    "name": "ipython",
    "version": 3
   },
   "file_extension": ".py",
   "mimetype": "text/x-python",
   "name": "python",
   "nbconvert_exporter": "python",
   "pygments_lexer": "ipython3",
   "version": "3.11.5"
  }
 },
 "nbformat": 4,
 "nbformat_minor": 2
}
