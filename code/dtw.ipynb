{
 "cells": [
  {
   "cell_type": "markdown",
   "metadata": {},
   "source": [
    "- soft dtw divergence : https://rtavenar.github.io/ml4ts_ensai/contents/align/softdtw.html\n",
    "- contraindre sur la digonale\n",
    "- comaparer L2 et DTW\n",
    "- Autoencoder\n",
    "- VAE\n",
    "- Detection d'anomalies"
   ]
  },
  {
   "cell_type": "code",
   "execution_count": 1,
   "metadata": {},
   "outputs": [],
   "source": [
    "import numpy as np\n",
    "import torch\n",
    "from dtw_soft import backward_recursion, soft_dtw, soft_dtw_batch, soft_min\n",
    "from sdtw import SoftDTW\n",
    "from sdtw.distance import SquaredEuclidean\n",
    "from tslearn import metrics"
   ]
  },
  {
   "cell_type": "markdown",
   "metadata": {},
   "source": [
    "# test soft_min"
   ]
  },
  {
   "cell_type": "code",
   "execution_count": 2,
   "metadata": {},
   "outputs": [
    {
     "name": "stdout",
     "output_type": "stream",
     "text": [
      "tensor(-1.3600)\n",
      "tensor(-1.)\n"
     ]
    }
   ],
   "source": [
    "# create list of values\n",
    "list_a = [9, 10, 0.5, 1, 2, 3, 4, 100, -1]\n",
    "gamma = 1\n",
    "\n",
    "# calculate softmin\n",
    "_min = soft_min(list_a, gamma)\n",
    "print(_min)\n",
    "\n",
    "# calculate softmin with gamma = 0\n",
    "_min = soft_min(list_a, 0)\n",
    "print(_min)"
   ]
  },
  {
   "cell_type": "markdown",
   "metadata": {},
   "source": [
    "## example with 1D signal"
   ]
  },
  {
   "cell_type": "code",
   "execution_count": 3,
   "metadata": {},
   "outputs": [
    {
     "name": "stderr",
     "output_type": "stream",
     "text": [
      "C:\\Users\\baptc\\AppData\\Local\\Temp\\ipykernel_5320\\3965251754.py:1: UserWarning: The use of `x.T` on tensors of dimension other than 2 to reverse their shape is deprecated and it will throw an error in a future release. Consider `x.mT` to transpose batches of matrices or `x.permute(*torch.arange(x.ndim - 1, -1, -1))` to reverse the dimensions of a tensor. (Triggered internally at ..\\aten\\src\\ATen\\native\\TensorShape.cpp:3618.)\n",
      "  x_1d = torch.Tensor([1, 1, 56]).T\n"
     ]
    }
   ],
   "source": [
    "x_1d = torch.Tensor([1, 1, 56]).T\n",
    "y_1d = torch.Tensor([1, 8, 1, 9, 1]).T"
   ]
  },
  {
   "cell_type": "code",
   "execution_count": 4,
   "metadata": {},
   "outputs": [
    {
     "name": "stdout",
     "output_type": "stream",
     "text": [
      "Carefull : x and y are not D-dimensional > 1 features : added 2 dimensions\n"
     ]
    },
    {
     "data": {
      "text/plain": [
       "3135.51513671875"
      ]
     },
     "execution_count": 4,
     "metadata": {},
     "output_type": "execute_result"
    }
   ],
   "source": [
    "dist, R = soft_dtw(x_1d, y_1d, gamma=1.0)\n",
    "dist.item()"
   ]
  },
  {
   "cell_type": "code",
   "execution_count": 5,
   "metadata": {},
   "outputs": [
    {
     "name": "stdout",
     "output_type": "stream",
     "text": [
      "3135.515093350212\n"
     ]
    },
    {
     "data": {
      "text/plain": [
       "3135.515093350212"
      ]
     },
     "execution_count": 5,
     "metadata": {},
     "output_type": "execute_result"
    }
   ],
   "source": [
    "# convert to numpy\n",
    "x_1d = x_1d.numpy().reshape(-1, 1)\n",
    "y_1d = y_1d.numpy().reshape(-1, 1)\n",
    "\n",
    "# method 1\n",
    "D = SquaredEuclidean(x_1d, y_1d)\n",
    "sdtw = SoftDTW(D, gamma=1.0)\n",
    "value = sdtw.compute()\n",
    "# gradient w.r.t. D, shape = [m, n], which is also the expected alignment matrix\n",
    "print(value)\n",
    "\n",
    "# method 2\n",
    "metrics.soft_dtw(x_1d, y_1d, gamma=gamma)"
   ]
  },
  {
   "cell_type": "markdown",
   "metadata": {},
   "source": [
    "# example with 2D data"
   ]
  },
  {
   "cell_type": "code",
   "execution_count": 6,
   "metadata": {},
   "outputs": [],
   "source": [
    "x1 = torch.Tensor([[1, 1, 56], [2, 8, 0]]).T\n",
    "y1 = torch.Tensor([[1, 8, 1, 9, 1], [5, 9, 14, 7, -1]]).T"
   ]
  },
  {
   "cell_type": "code",
   "execution_count": 7,
   "metadata": {},
   "outputs": [
    {
     "data": {
      "text/plain": [
       "3186.0"
      ]
     },
     "execution_count": 7,
     "metadata": {},
     "output_type": "execute_result"
    }
   ],
   "source": [
    "dist, R = soft_dtw(x1, y1, gamma=1.0)\n",
    "dist.item()"
   ]
  },
  {
   "cell_type": "code",
   "execution_count": 8,
   "metadata": {},
   "outputs": [],
   "source": [
    "x1 = np.array([[1, 1, 56], [2, 8, 0]]).T\n",
    "y1 = np.array([[1, 8, 1, 9, 1], [5, 9, 14, 7, -1]]).T"
   ]
  },
  {
   "cell_type": "code",
   "execution_count": 9,
   "metadata": {},
   "outputs": [
    {
     "name": "stdout",
     "output_type": "stream",
     "text": [
      "3185.9998765978103\n"
     ]
    },
    {
     "data": {
      "text/plain": [
       "3185.9998765978103"
      ]
     },
     "execution_count": 9,
     "metadata": {},
     "output_type": "execute_result"
    }
   ],
   "source": [
    "D = SquaredEuclidean(x1, y1)\n",
    "sdtw = SoftDTW(D, gamma=1.0)\n",
    "value = sdtw.compute()\n",
    "# gradient w.r.t. D, shape = [m, n], which is also the expected alignment matrix\n",
    "print(value)\n",
    "\n",
    "# method 2\n",
    "metrics.soft_dtw(x1, y1, gamma=gamma)"
   ]
  },
  {
   "cell_type": "markdown",
   "metadata": {},
   "source": [
    "# Batch"
   ]
  },
  {
   "cell_type": "code",
   "execution_count": 10,
   "metadata": {},
   "outputs": [],
   "source": [
    "x1 = torch.Tensor([[1, 1, 56], [2, 8, 0]]).T\n",
    "x2 = torch.Tensor([[1, 8, 1], [5, 9, 14]]).T\n",
    "X = torch.stack([x1, x2])\n",
    "y1 = torch.Tensor([[1, 8, 1, 9, 1], [5, 9, 14, 7, -1]]).T\n",
    "y2 = torch.Tensor([[1, 5, 8, 1, 1], [5, 5, 14, 10, -1]]).T\n",
    "Y = torch.stack([y1, y2])"
   ]
  },
  {
   "cell_type": "code",
   "execution_count": 11,
   "metadata": {},
   "outputs": [
    {
     "data": {
      "text/plain": [
       "tensor([3186.0000,  281.9999])"
      ]
     },
     "execution_count": 11,
     "metadata": {},
     "output_type": "execute_result"
    }
   ],
   "source": [
    "soft_dtw_batch(X, Y, gamma=1.0)"
   ]
  },
  {
   "cell_type": "code",
   "execution_count": 12,
   "metadata": {},
   "outputs": [],
   "source": [
    "x1 = np.array([[1, 1, 56], [2, 8, 0]]).T\n",
    "y1 = np.array([[1, 8, 1, 9, 1], [5, 9, 14, 7, -1]]).T\n",
    "\n",
    "x2 = np.array([[1, 8, 1], [5, 9, 14]]).T\n",
    "y2 = np.array([[1, 5, 8, 1, 1], [5, 5, 14, 10, -1]]).T"
   ]
  },
  {
   "cell_type": "code",
   "execution_count": 13,
   "metadata": {},
   "outputs": [
    {
     "name": "stdout",
     "output_type": "stream",
     "text": [
      "3185.9998765978103\n"
     ]
    },
    {
     "data": {
      "text/plain": [
       "3185.9998765978103"
      ]
     },
     "execution_count": 13,
     "metadata": {},
     "output_type": "execute_result"
    }
   ],
   "source": [
    "D = SquaredEuclidean(x1, y1)\n",
    "sdtw = SoftDTW(D, gamma=1.0)\n",
    "value = sdtw.compute()\n",
    "# gradient w.r.t. D, shape = [m, n], which is also the expected alignment matrix\n",
    "print(value)\n",
    "\n",
    "# method 2\n",
    "metrics.soft_dtw(x1, y1, gamma=gamma)"
   ]
  },
  {
   "cell_type": "code",
   "execution_count": 14,
   "metadata": {},
   "outputs": [
    {
     "name": "stdout",
     "output_type": "stream",
     "text": [
      "281.9998765977964\n"
     ]
    },
    {
     "data": {
      "text/plain": [
       "281.9998765977964"
      ]
     },
     "execution_count": 14,
     "metadata": {},
     "output_type": "execute_result"
    }
   ],
   "source": [
    "D = SquaredEuclidean(x2, y2)\n",
    "sdtw = SoftDTW(D, gamma=1.0)\n",
    "value = sdtw.compute()\n",
    "# gradient w.r.t. D, shape = [m, n], which is also the expected alignment matrix\n",
    "print(value)\n",
    "\n",
    "# method 2\n",
    "metrics.soft_dtw(x2, y2, gamma=gamma)"
   ]
  },
  {
   "cell_type": "markdown",
   "metadata": {},
   "source": [
    "# Backward recursion"
   ]
  },
  {
   "cell_type": "code",
   "execution_count": 15,
   "metadata": {},
   "outputs": [],
   "source": [
    "x = torch.Tensor([1, 1, 56]).T\n",
    "y = torch.Tensor([1, 8, 1, 9, 1]).T"
   ]
  },
  {
   "cell_type": "code",
   "execution_count": 16,
   "metadata": {},
   "outputs": [
    {
     "data": {
      "text/plain": [
       "torch.Size([3])"
      ]
     },
     "execution_count": 16,
     "metadata": {},
     "output_type": "execute_result"
    }
   ],
   "source": [
    "x.shape"
   ]
  },
  {
   "cell_type": "code",
   "execution_count": 17,
   "metadata": {},
   "outputs": [
    {
     "name": "stdout",
     "output_type": "stream",
     "text": [
      "Carefull : x and y are not D-dimensional > 1 features : added 2 dimensions\n",
      "Carefull : x and y are not D-dimensional > 1 features : added 2 dimensions\n"
     ]
    },
    {
     "data": {
      "text/plain": [
       "tensor([[1.0000, 0.6666, 0.5000, 0.1667, 0.0833],\n",
       "        [0.1667, 0.3333, 0.6666, 0.8333, 0.5833],\n",
       "        [0.0000, 0.0000, 0.0000, 0.0000, 1.0000]])"
      ]
     },
     "execution_count": 17,
     "metadata": {},
     "output_type": "execute_result"
    }
   ],
   "source": [
    "backward_recursion(x, y, gamma=1)"
   ]
  },
  {
   "cell_type": "code",
   "execution_count": 18,
   "metadata": {},
   "outputs": [],
   "source": [
    "x = np.array([1, 1, 56]).reshape(-1, 1)\n",
    "y = np.array([1, 8, 1, 9, 1]).reshape(-1, 1)"
   ]
  },
  {
   "cell_type": "code",
   "execution_count": 19,
   "metadata": {},
   "outputs": [
    {
     "data": {
      "text/plain": [
       "array([[1.        , 0.66666667, 0.5       , 0.16666667, 0.08333333],\n",
       "       [0.16666667, 0.33333333, 0.66666667, 0.83333333, 0.58333333],\n",
       "       [0.        , 0.        , 0.        , 0.        , 1.        ]])"
      ]
     },
     "execution_count": 19,
     "metadata": {},
     "output_type": "execute_result"
    }
   ],
   "source": [
    "D = SquaredEuclidean(x, y)\n",
    "sdtw = SoftDTW(D, gamma=1.0)\n",
    "value = sdtw.compute()\n",
    "# gradient w.r.t. D, shape = [m, n], which is also the expected alignment matrix\n",
    "E = sdtw.grad()\n",
    "E"
   ]
  }
 ],
 "metadata": {
  "kernelspec": {
   "display_name": "base",
   "language": "python",
   "name": "python3"
  },
  "language_info": {
   "codemirror_mode": {
    "name": "ipython",
    "version": 3
   },
   "file_extension": ".py",
   "mimetype": "text/x-python",
   "name": "python",
   "nbconvert_exporter": "python",
   "pygments_lexer": "ipython3",
   "version": "3.10.13"
  }
 },
 "nbformat": 4,
 "nbformat_minor": 2
}
