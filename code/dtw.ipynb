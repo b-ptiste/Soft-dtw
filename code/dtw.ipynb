{
 "cells": [
  {
   "cell_type": "markdown",
   "metadata": {},
   "source": [
    "- soft dtw divergence : https://rtavenar.github.io/ml4ts_ensai/contents/align/softdtw.html\n",
    "- contraindre sur la digonale\n",
    "- comaparer L2 et DTW\n",
    "- Autoencoder\n",
    "- VAE\n",
    "- Detection d'anomalies"
   ]
  },
  {
   "cell_type": "code",
   "execution_count": null,
   "metadata": {},
   "outputs": [],
   "source": [
    "import torch\n",
    "from dtw_soft import soft_dtw, soft_min\n",
    "from tslearn import metrics"
   ]
  },
  {
   "cell_type": "markdown",
   "metadata": {},
   "source": [
    "# test soft_min"
   ]
  },
  {
   "cell_type": "code",
   "execution_count": null,
   "metadata": {},
   "outputs": [],
   "source": [
    "# create list of values\n",
    "list_a = [9, 10, 0.5, 1, 2, 3, 4, 100, -1]\n",
    "gamma = 1\n",
    "\n",
    "# calculate softmin\n",
    "_min = soft_min(list_a, gamma)\n",
    "print(_min)\n",
    "\n",
    "# calculate softmin with gamma = 0\n",
    "_min = soft_min(list_a, 0)\n",
    "print(_min)"
   ]
  },
  {
   "cell_type": "markdown",
   "metadata": {},
   "source": [
    "# our code"
   ]
  },
  {
   "cell_type": "code",
   "execution_count": null,
   "metadata": {},
   "outputs": [],
   "source": [
    "x = torch.Tensor([-2, 1, 1])\n",
    "y = torch.Tensor([1, 3, 1, 9, 1])"
   ]
  },
  {
   "cell_type": "code",
   "execution_count": null,
   "metadata": {},
   "outputs": [],
   "source": [
    "# calculate soft-DTW distance\n",
    "gamma = 0.5\n",
    "dist, R = soft_dtw(x, y, gamma=gamma)\n",
    "print(dist)"
   ]
  },
  {
   "cell_type": "markdown",
   "metadata": {},
   "source": [
    "# Library code"
   ]
  },
  {
   "cell_type": "code",
   "execution_count": null,
   "metadata": {},
   "outputs": [],
   "source": [
    "metrics.soft_dtw(x, y, gamma=gamma)"
   ]
  }
 ],
 "metadata": {
  "kernelspec": {
   "display_name": "base",
   "language": "python",
   "name": "python3"
  },
  "language_info": {
   "codemirror_mode": {
    "name": "ipython",
    "version": 3
   },
   "file_extension": ".py",
   "mimetype": "text/x-python",
   "name": "python",
   "nbconvert_exporter": "python",
   "pygments_lexer": "ipython3",
   "version": "3.10.13"
  }
 },
 "nbformat": 4,
 "nbformat_minor": 2
}
