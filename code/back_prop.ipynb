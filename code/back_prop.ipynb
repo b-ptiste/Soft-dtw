{
 "cells": [
  {
   "cell_type": "code",
   "execution_count": 21,
   "metadata": {},
   "outputs": [],
   "source": [
    "from dtw_soft import *"
   ]
  },
  {
   "cell_type": "markdown",
   "metadata": {},
   "source": [
    "# First tests"
   ]
  },
  {
   "cell_type": "code",
   "execution_count": 22,
   "metadata": {},
   "outputs": [],
   "source": [
    "x = torch.tensor([2.0, 5.0, 3.0, 6.0], requires_grad=True).unsqueeze(-1)\n",
    "y = torch.tensor([5.0, 9.0, 2.0], requires_grad=True).unsqueeze(-1)\n",
    "\n",
    "loss = soft_dtw(x, y)[0]"
   ]
  },
  {
   "cell_type": "code",
   "execution_count": 23,
   "metadata": {},
   "outputs": [],
   "source": [
    "loss.backward()"
   ]
  },
  {
   "cell_type": "code",
   "execution_count": 24,
   "metadata": {},
   "outputs": [
    {
     "name": "stdout",
     "output_type": "stream",
     "text": [
      "torch.Size([2, 4, 1]) torch.Size([2, 4, 1])\n"
     ]
    }
   ],
   "source": [
    "x1 = torch.tensor([2.0, 5.0, 3.0, 6.0], requires_grad=True).unsqueeze(-1)\n",
    "x2 = torch.tensor([2.0, 3.0, 3.0, 5.0], requires_grad=True).unsqueeze(-1)\n",
    "x = torch.stack([x1, x2])\n",
    "\n",
    "y1 = torch.tensor([5.0, 9.0, 2.0, 2.0], requires_grad=True).unsqueeze(-1)\n",
    "y2 = torch.tensor([2.0, 3.0, 3.0, 2.0], requires_grad=True).unsqueeze(-1)\n",
    "y = torch.stack([y1, y2])\n",
    "\n",
    "print(x.shape, y.shape)\n",
    "\n",
    "loss = torch.mean(soft_dtw_batch_same_size(x, y)[0])"
   ]
  },
  {
   "cell_type": "code",
   "execution_count": 25,
   "metadata": {},
   "outputs": [
    {
     "data": {
      "text/plain": [
       "tensor(23.8546, grad_fn=<MeanBackward0>)"
      ]
     },
     "execution_count": 25,
     "metadata": {},
     "output_type": "execute_result"
    }
   ],
   "source": [
    "loss"
   ]
  },
  {
   "cell_type": "code",
   "execution_count": 26,
   "metadata": {},
   "outputs": [],
   "source": [
    "loss.backward()"
   ]
  },
  {
   "cell_type": "markdown",
   "metadata": {},
   "source": [
    "# Pytorch Backward"
   ]
  },
  {
   "cell_type": "code",
   "execution_count": 103,
   "metadata": {},
   "outputs": [],
   "source": [
    "x = torch.tensor([2.0, 5.0, 3.0, 6.0], requires_grad=True).unsqueeze(-1).repeat(1, 3)\n",
    "y = torch.tensor([5.0, 9.0, 2.0], requires_grad=True).unsqueeze(-1).repeat(1, 3)\n",
    "\n",
    "# Retaining the gradient for non-leaf tensor\n",
    "x.retain_grad()\n",
    "y.retain_grad()\n",
    "\n",
    "loss = soft_dtw(x, y)[0]"
   ]
  },
  {
   "cell_type": "code",
   "execution_count": 104,
   "metadata": {},
   "outputs": [
    {
     "data": {
      "text/plain": [
       "(tensor([[0., 0., 0.],\n",
       "         [0., 0., 0.],\n",
       "         [0., 0., 0.],\n",
       "         [8., 8., 8.]]),\n",
       " tensor([[ 0.,  0.,  0.],\n",
       "         [ 0.,  0.,  0.],\n",
       "         [-8., -8., -8.]]))"
      ]
     },
     "execution_count": 104,
     "metadata": {},
     "output_type": "execute_result"
    }
   ],
   "source": [
    "loss.backward()\n",
    "\n",
    "# Extracting gradients\n",
    "x_grad = x.grad\n",
    "y_grad = y.grad\n",
    "\n",
    "x_grad, y_grad"
   ]
  },
  {
   "cell_type": "markdown",
   "metadata": {},
   "source": [
    "# Custom Backward"
   ]
  },
  {
   "cell_type": "code",
   "execution_count": 105,
   "metadata": {},
   "outputs": [
    {
     "data": {
      "text/plain": [
       "tensor([[1.0000e+00, 0.0000e+00, 0.0000e+00],\n",
       "        [9.9999e-01, 1.1705e-05, 2.2001e-17],\n",
       "        [9.9998e-01, 1.0806e-30, 1.1705e-05],\n",
       "        [4.7425e-02, 9.9998e-01, 1.0000e+00]], grad_fn=<SliceBackward0>)"
      ]
     },
     "execution_count": 105,
     "metadata": {},
     "output_type": "execute_result"
    }
   ],
   "source": [
    "E = backward_recursion(x, y)\n",
    "E"
   ]
  },
  {
   "cell_type": "code",
   "execution_count": 106,
   "metadata": {},
   "outputs": [],
   "source": [
    "def grad_x(x, y, E):\n",
    "    with torch.no_grad():\n",
    "        p = len(x[0])\n",
    "        m = len(y)\n",
    "        print(\"p m:\", p, m)\n",
    "        B = E.transpose(-1, -2)\n",
    "\n",
    "        a = torch.ones(p, m) @ B\n",
    "        print(a, a.shape)\n",
    "        a = a * torch.transpose(x, -1, -2)\n",
    "        print(a, a.shape)\n",
    "        b = y.transpose(0, 1) @ B\n",
    "        print(b, b.shape)\n",
    "        return 2 * (a - b).transpose(-1, -2)"
   ]
  },
  {
   "cell_type": "code",
   "execution_count": 107,
   "metadata": {},
   "outputs": [
    {
     "name": "stdout",
     "output_type": "stream",
     "text": [
      "p m: 3 3\n",
      "tensor([[1.0000, 1.0000, 1.0000, 2.0474],\n",
      "        [1.0000, 1.0000, 1.0000, 2.0474],\n",
      "        [1.0000, 1.0000, 1.0000, 2.0474]]) torch.Size([3, 4])\n",
      "tensor([[ 2.0000,  5.0000,  3.0000, 12.2845],\n",
      "        [ 2.0000,  5.0000,  3.0000, 12.2845],\n",
      "        [ 2.0000,  5.0000,  3.0000, 12.2845]]) torch.Size([3, 4])\n",
      "tensor([[ 5.0000,  5.0001,  4.9999, 11.2370],\n",
      "        [ 5.0000,  5.0001,  4.9999, 11.2370],\n",
      "        [ 5.0000,  5.0001,  4.9999, 11.2370]]) torch.Size([3, 4])\n",
      "Out:\n",
      "tensor([[-6.0000e+00, -6.0000e+00, -6.0000e+00],\n",
      "        [-9.3460e-05, -9.3460e-05, -9.3460e-05],\n",
      "        [-3.9999e+00, -3.9999e+00, -3.9999e+00],\n",
      "        [ 2.0949e+00,  2.0949e+00,  2.0949e+00]]) torch.Size([4, 3])\n"
     ]
    }
   ],
   "source": [
    "out = grad_x(x, y, E)\n",
    "print(\"Out:\")\n",
    "print(out, out.shape)"
   ]
  },
  {
   "cell_type": "markdown",
   "metadata": {},
   "source": [
    "# Test with Batches"
   ]
  },
  {
   "cell_type": "code",
   "execution_count": 108,
   "metadata": {},
   "outputs": [
    {
     "name": "stdout",
     "output_type": "stream",
     "text": [
      "torch.Size([3, 4, 3])\n"
     ]
    },
    {
     "data": {
      "text/plain": [
       "tensor([[[1.0000e+00, 0.0000e+00, 0.0000e+00],\n",
       "         [9.9999e-01, 1.1705e-05, 2.2001e-17],\n",
       "         [9.9998e-01, 1.0806e-30, 1.1705e-05],\n",
       "         [4.7425e-02, 9.9998e-01, 1.0000e+00]],\n",
       "\n",
       "        [[1.0000e+00, 0.0000e+00, 0.0000e+00],\n",
       "         [9.9999e-01, 1.1705e-05, 2.2001e-17],\n",
       "         [9.9998e-01, 1.0806e-30, 1.1705e-05],\n",
       "         [4.7425e-02, 9.9998e-01, 1.0000e+00]],\n",
       "\n",
       "        [[1.0000e+00, 0.0000e+00, 0.0000e+00],\n",
       "         [9.9999e-01, 1.1705e-05, 2.2001e-17],\n",
       "         [9.9998e-01, 1.0806e-30, 1.1705e-05],\n",
       "         [4.7425e-02, 9.9998e-01, 1.0000e+00]]], grad_fn=<SliceBackward0>)"
      ]
     },
     "execution_count": 108,
     "metadata": {},
     "output_type": "execute_result"
    }
   ],
   "source": [
    "print(x.repeat(3, 1, 1).shape)\n",
    "E = backward_recursion_batch_same_size(x.repeat(3, 1, 1), y.repeat(3, 1, 1))\n",
    "E"
   ]
  },
  {
   "cell_type": "code",
   "execution_count": 101,
   "metadata": {},
   "outputs": [
    {
     "name": "stdout",
     "output_type": "stream",
     "text": [
      "p m: 4 3\n",
      "tensor([[[1.0000, 1.0000, 1.0000, 2.0474],\n",
      "         [1.0000, 1.0000, 1.0000, 2.0474],\n",
      "         [1.0000, 1.0000, 1.0000, 2.0474],\n",
      "         [1.0000, 1.0000, 1.0000, 2.0474]],\n",
      "\n",
      "        [[1.0000, 1.0000, 1.0000, 2.0474],\n",
      "         [1.0000, 1.0000, 1.0000, 2.0474],\n",
      "         [1.0000, 1.0000, 1.0000, 2.0474],\n",
      "         [1.0000, 1.0000, 1.0000, 2.0474]],\n",
      "\n",
      "        [[1.0000, 1.0000, 1.0000, 2.0474],\n",
      "         [1.0000, 1.0000, 1.0000, 2.0474],\n",
      "         [1.0000, 1.0000, 1.0000, 2.0474],\n",
      "         [1.0000, 1.0000, 1.0000, 2.0474]]]) torch.Size([3, 4, 4])\n"
     ]
    },
    {
     "ename": "RuntimeError",
     "evalue": "The size of tensor a (4) must match the size of tensor b (3) at non-singleton dimension 1",
     "output_type": "error",
     "traceback": [
      "\u001b[1;31m---------------------------------------------------------------------------\u001b[0m",
      "\u001b[1;31mRuntimeError\u001b[0m                              Traceback (most recent call last)",
      "Cell \u001b[1;32mIn[101], line 3\u001b[0m\n\u001b[0;32m      1\u001b[0m \u001b[38;5;66;03m# Afair plus tard quand ca march sans batch\u001b[39;00m\n\u001b[1;32m----> 3\u001b[0m out \u001b[38;5;241m=\u001b[39m \u001b[43mgrad_x\u001b[49m\u001b[43m(\u001b[49m\u001b[43mx\u001b[49m\u001b[38;5;241;43m.\u001b[39;49m\u001b[43mrepeat\u001b[49m\u001b[43m(\u001b[49m\u001b[38;5;241;43m3\u001b[39;49m\u001b[43m,\u001b[49m\u001b[38;5;241;43m1\u001b[39;49m\u001b[43m,\u001b[49m\u001b[38;5;241;43m1\u001b[39;49m\u001b[43m)\u001b[49m\u001b[43m,\u001b[49m\u001b[43my\u001b[49m\u001b[38;5;241;43m.\u001b[39;49m\u001b[43mrepeat\u001b[49m\u001b[43m(\u001b[49m\u001b[38;5;241;43m3\u001b[39;49m\u001b[43m,\u001b[49m\u001b[38;5;241;43m1\u001b[39;49m\u001b[43m,\u001b[49m\u001b[38;5;241;43m1\u001b[39;49m\u001b[43m)\u001b[49m\u001b[43m,\u001b[49m\u001b[43mE\u001b[49m\u001b[43m)\u001b[49m\n\u001b[0;32m      4\u001b[0m \u001b[38;5;28mprint\u001b[39m(out,out\u001b[38;5;241m.\u001b[39mshape)\n",
      "Cell \u001b[1;32mIn[97], line 10\u001b[0m, in \u001b[0;36mgrad_x\u001b[1;34m(x, y, E)\u001b[0m\n\u001b[0;32m      8\u001b[0m a \u001b[38;5;241m=\u001b[39m (torch\u001b[38;5;241m.\u001b[39mones(p,m) \u001b[38;5;241m@\u001b[39m B )\n\u001b[0;32m      9\u001b[0m \u001b[38;5;28mprint\u001b[39m(a,a\u001b[38;5;241m.\u001b[39mshape)\n\u001b[1;32m---> 10\u001b[0m a\u001b[38;5;241m=\u001b[39m \u001b[43ma\u001b[49m\u001b[43m \u001b[49m\u001b[38;5;241;43m*\u001b[39;49m\u001b[43m \u001b[49m\u001b[43mtorch\u001b[49m\u001b[38;5;241;43m.\u001b[39;49m\u001b[43mtranspose\u001b[49m\u001b[43m(\u001b[49m\u001b[43mx\u001b[49m\u001b[43m,\u001b[49m\u001b[38;5;241;43m-\u001b[39;49m\u001b[38;5;241;43m1\u001b[39;49m\u001b[43m,\u001b[49m\u001b[38;5;241;43m-\u001b[39;49m\u001b[38;5;241;43m2\u001b[39;49m\u001b[43m)\u001b[49m\n\u001b[0;32m     11\u001b[0m \u001b[38;5;28mprint\u001b[39m(a,a\u001b[38;5;241m.\u001b[39mshape)\n\u001b[0;32m     12\u001b[0m b \u001b[38;5;241m=\u001b[39m (y\u001b[38;5;241m.\u001b[39mtranspose(\u001b[38;5;241m0\u001b[39m,\u001b[38;5;241m1\u001b[39m) \u001b[38;5;241m@\u001b[39m B )\n",
      "\u001b[1;31mRuntimeError\u001b[0m: The size of tensor a (4) must match the size of tensor b (3) at non-singleton dimension 1"
     ]
    }
   ],
   "source": [
    "# Afair plus tard quand ca march sans batch\n",
    "\n",
    "out = grad_x(x.repeat(3, 1, 1), y.repeat(3, 1, 1), E)\n",
    "print(out, out.shape)"
   ]
  },
  {
   "cell_type": "markdown",
   "metadata": {},
   "source": [
    "# Test with big vectors"
   ]
  },
  {
   "cell_type": "code",
   "execution_count": 40,
   "metadata": {},
   "outputs": [],
   "source": [
    "x = torch.ones(100, requires_grad=True).unsqueeze(-1)\n",
    "y = torch.ones(100, requires_grad=True).unsqueeze(-1)\n",
    "\n",
    "# Retaining the gradient for non-leaf tensor\n",
    "x.retain_grad()\n",
    "y.retain_grad()"
   ]
  },
  {
   "cell_type": "code",
   "execution_count": 41,
   "metadata": {},
   "outputs": [],
   "source": [
    "E = backward_recursion(x, y)"
   ]
  }
 ],
 "metadata": {
  "kernelspec": {
   "display_name": "MVA",
   "language": "python",
   "name": "python3"
  },
  "language_info": {
   "codemirror_mode": {
    "name": "ipython",
    "version": 3
   },
   "file_extension": ".py",
   "mimetype": "text/x-python",
   "name": "python",
   "nbconvert_exporter": "python",
   "pygments_lexer": "ipython3",
   "version": "3.11.5"
  }
 },
 "nbformat": 4,
 "nbformat_minor": 2
}
