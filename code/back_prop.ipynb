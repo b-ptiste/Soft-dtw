{
 "cells": [
  {
   "cell_type": "code",
   "execution_count": 3,
   "metadata": {},
   "outputs": [],
   "source": [
    "from dtw_soft import *"
   ]
  },
  {
   "cell_type": "code",
   "execution_count": 10,
   "metadata": {},
   "outputs": [],
   "source": [
    "x = torch.tensor([2.0,5.0,3.0,6.0],requires_grad=True).unsqueeze(-1)\n",
    "y = torch.tensor([5.0,9.0,2.0],requires_grad=True).unsqueeze(-1)\n",
    "\n",
    "loss = soft_dtw(x,y)[0]\n"
   ]
  },
  {
   "cell_type": "code",
   "execution_count": 11,
   "metadata": {},
   "outputs": [],
   "source": [
    "loss.backward()"
   ]
  },
  {
   "cell_type": "code",
   "execution_count": 13,
   "metadata": {},
   "outputs": [],
   "source": [
    "x1 = torch.tensor([2.0,5.0,3.0,6.0],requires_grad=True).unsqueeze(-1)\n",
    "x2 = torch.tensor([2.0,3.0,3.0,5.0],requires_grad=True).unsqueeze(-1)\n",
    "x = torch.cat([x1,x2])\n",
    "\n",
    "y1 = torch.tensor([5.0,9.0,2.0,2.0],requires_grad=True).unsqueeze(-1)\n",
    "y2 = torch.tensor([2.0,3.0,3.0,2.0],requires_grad=True).unsqueeze(-1)\n",
    "y = torch.cat([y1,y2])\n",
    "\n",
    "loss = soft_dtw(x,y)[0]"
   ]
  },
  {
   "cell_type": "code",
   "execution_count": 14,
   "metadata": {},
   "outputs": [],
   "source": [
    "loss.backward()"
   ]
  }
 ],
 "metadata": {
  "kernelspec": {
   "display_name": "MVA",
   "language": "python",
   "name": "python3"
  },
  "language_info": {
   "codemirror_mode": {
    "name": "ipython",
    "version": 3
   },
   "file_extension": ".py",
   "mimetype": "text/x-python",
   "name": "python",
   "nbconvert_exporter": "python",
   "pygments_lexer": "ipython3",
   "version": "3.11.5"
  }
 },
 "nbformat": 4,
 "nbformat_minor": 2
}
